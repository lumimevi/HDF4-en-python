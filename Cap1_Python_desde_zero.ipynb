{
  "nbformat": 4,
  "nbformat_minor": 0,
  "metadata": {
    "colab": {
      "name": "Cap1. Python desde zero.ipynb",
      "provenance": [],
      "toc_visible": true,
      "include_colab_link": true
    },
    "kernelspec": {
      "name": "python3",
      "display_name": "Python 3"
    }
  },
  "cells": [
    {
      "cell_type": "markdown",
      "metadata": {
        "id": "view-in-github",
        "colab_type": "text"
      },
      "source": [
        "<a href=\"https://colab.research.google.com/github/lumimevi/HDF4-en-python/blob/master/Cap1_Python_desde_zero.ipynb\" target=\"_parent\"><img src=\"https://colab.research.google.com/assets/colab-badge.svg\" alt=\"Open In Colab\"/></a>"
      ]
    },
    {
      "cell_type": "markdown",
      "metadata": {
        "id": "M76u9y0JO8FQ",
        "colab_type": "text"
      },
      "source": [
        "#**Entrando ao Mundo Python para a Ciência de Dados**\n",
        "###### Instrutora: Lourdes M.M. Villavicencio\n",
        "\n",
        "\n",
        "Data: 09-12-2019"
      ]
    },
    {
      "cell_type": "markdown",
      "metadata": {
        "id": "5iKPrFHxXaTn",
        "colab_type": "text"
      },
      "source": [
        "# **Capitulo 1 - Python desde zero** \n",
        "\n"
      ]
    },
    {
      "cell_type": "markdown",
      "metadata": {
        "id": "PU-qe_rCoCdZ",
        "colab_type": "text"
      },
      "source": [
        "##1.1 Conheçendo a versão do Python"
      ]
    },
    {
      "cell_type": "code",
      "metadata": {
        "id": "1RsfCfpBXdGW",
        "colab_type": "code",
        "colab": {
          "base_uri": "https://localhost:8080/",
          "height": 54
        },
        "outputId": "4609d8d2-8ee2-4ca0-a8aa-b914387f5e2f"
      },
      "source": [
        "import sys \n",
        "print(sys.version) "
      ],
      "execution_count": 1,
      "outputs": [
        {
          "output_type": "stream",
          "text": [
            "3.6.9 (default, Nov  7 2019, 10:44:02) \n",
            "[GCC 8.3.0]\n"
          ],
          "name": "stdout"
        }
      ]
    },
    {
      "cell_type": "markdown",
      "metadata": {
        "id": "ncX7fTVdnv5t",
        "colab_type": "text"
      },
      "source": [
        "##1.2 Operadores matemáticos"
      ]
    },
    {
      "cell_type": "markdown",
      "metadata": {
        "id": "QiqxiUp8iN9Z",
        "colab_type": "text"
      },
      "source": [
        "**Usando Python como calculadora**\n",
        "\n",
        "Aprenderemos sobre os seguintes tópicos\n",
        "\n",
        "  A) Tipos de Numeros em Python\n",
        "\n",
        "  B) Aritmetica Basica\n",
        "\n",
        "  C) Atribuição de Objeto em Python\n"
      ]
    },
    {
      "cell_type": "markdown",
      "metadata": {
        "id": "4MvP1N7SwviC",
        "colab_type": "text"
      },
      "source": [
        "A) **Tipos de Numeros em python**"
      ]
    },
    {
      "cell_type": "markdown",
      "metadata": {
        "id": "EZLTUT8nxGP6",
        "colab_type": "text"
      },
      "source": [
        "Python tem vários \"tipos\" de números. Aqui nos concentraremos principalmente em números inteiros e números de ponto flutuante.\n",
        "\n",
        "\n",
        "\n",
        "Aqui está uma tabela dos dois tipos principais que passaremos a maior parte do tempo trabalhando com alguns exemplos\n",
        "\n",
        "<img width=\"200\" alt=\"creating a repo\" src = \"https://drive.google.com/uc?id=1GTF-CEQv1kMh1e__H0IZezXVrLJbZZ6R\">\n",
        "\n"
      ]
    },
    {
      "cell_type": "markdown",
      "metadata": {
        "id": "wf95mEXyyTh4",
        "colab_type": "text"
      },
      "source": [
        "B) **Aritmética básica** "
      ]
    },
    {
      "cell_type": "markdown",
      "metadata": {
        "id": "rgt4SVAxrxYD",
        "colab_type": "text"
      },
      "source": [
        "O simbolo # é usado em Python para adicionar comentarios aos códigos. Tudo o que estever escrito após esse simbolo, é enxergado como comentario e não é executado como o código."
      ]
    },
    {
      "cell_type": "code",
      "metadata": {
        "id": "JQ68Tghaia_3",
        "colab_type": "code",
        "outputId": "cb7fe5d0-91a6-4411-9780-cf17eb28faa3",
        "colab": {
          "base_uri": "https://localhost:8080/",
          "height": 35
        }
      },
      "source": [
        "#soma\n",
        "15+3 "
      ],
      "execution_count": 3,
      "outputs": [
        {
          "output_type": "execute_result",
          "data": {
            "text/plain": [
              "18"
            ]
          },
          "metadata": {
            "tags": []
          },
          "execution_count": 3
        }
      ]
    },
    {
      "cell_type": "code",
      "metadata": {
        "id": "_q_ob9a890VT",
        "colab_type": "code",
        "colab": {}
      },
      "source": [
        "#subtração\n",
        "10-3"
      ],
      "execution_count": 0,
      "outputs": []
    },
    {
      "cell_type": "code",
      "metadata": {
        "id": "63jtrqm898JG",
        "colab_type": "code",
        "colab": {
          "base_uri": "https://localhost:8080/",
          "height": 35
        },
        "outputId": "406e91ed-46c4-40cc-e42f-c2ddff3af491"
      },
      "source": [
        "# Multiplicação\n",
        "3*3"
      ],
      "execution_count": 4,
      "outputs": [
        {
          "output_type": "execute_result",
          "data": {
            "text/plain": [
              "9"
            ]
          },
          "metadata": {
            "tags": []
          },
          "execution_count": 4
        }
      ]
    },
    {
      "cell_type": "code",
      "metadata": {
        "id": "pBCtGUV1-B66",
        "colab_type": "code",
        "colab": {
          "base_uri": "https://localhost:8080/",
          "height": 35
        },
        "outputId": "f154425e-ab2b-4e3d-97b9-d39293b18918"
      },
      "source": [
        "#Divisão\n",
        "10 /3 "
      ],
      "execution_count": 5,
      "outputs": [
        {
          "output_type": "execute_result",
          "data": {
            "text/plain": [
              "3.3333333333333335"
            ]
          },
          "metadata": {
            "tags": []
          },
          "execution_count": 5
        }
      ]
    },
    {
      "cell_type": "code",
      "metadata": {
        "id": "pDL7flUVxVMT",
        "colab_type": "code",
        "colab": {
          "base_uri": "https://localhost:8080/",
          "height": 35
        },
        "outputId": "06eb5b89-0f4f-467b-80f3-e310669f4f15"
      },
      "source": [
        "# Divisão inteira\n",
        "10 // 3  "
      ],
      "execution_count": 6,
      "outputs": [
        {
          "output_type": "execute_result",
          "data": {
            "text/plain": [
              "3"
            ]
          },
          "metadata": {
            "tags": []
          },
          "execution_count": 6
        }
      ]
    },
    {
      "cell_type": "code",
      "metadata": {
        "id": "7WaTHj9_sXcb",
        "colab_type": "code",
        "colab": {
          "base_uri": "https://localhost:8080/",
          "height": 35
        },
        "outputId": "5291ed39-f59b-4b7a-8a24-c4f9bfc93569"
      },
      "source": [
        " # O resto da divisão \n",
        " 10 % 3 "
      ],
      "execution_count": 7,
      "outputs": [
        {
          "output_type": "execute_result",
          "data": {
            "text/plain": [
              "1"
            ]
          },
          "metadata": {
            "tags": []
          },
          "execution_count": 7
        }
      ]
    },
    {
      "cell_type": "code",
      "metadata": {
        "id": "IN-vB0fW-6y-",
        "colab_type": "code",
        "colab": {
          "base_uri": "https://localhost:8080/",
          "height": 35
        },
        "outputId": "2832a12d-bbb4-47f0-f31e-fd3621d598d2"
      },
      "source": [
        "# Você pode usar parêntesis para especificar a ordem\n",
        "(10+10) * (10+20)   "
      ],
      "execution_count": 8,
      "outputs": [
        {
          "output_type": "execute_result",
          "data": {
            "text/plain": [
              "600"
            ]
          },
          "metadata": {
            "tags": []
          },
          "execution_count": 8
        }
      ]
    },
    {
      "cell_type": "code",
      "metadata": {
        "id": "c6YVOKCtEzBR",
        "colab_type": "code",
        "colab": {
          "base_uri": "https://localhost:8080/",
          "height": 35
        },
        "outputId": "5ea9b0e8-1ddc-402d-e81c-ef0c1ee130ff"
      },
      "source": [
        "10+10*10+20  "
      ],
      "execution_count": 9,
      "outputs": [
        {
          "output_type": "execute_result",
          "data": {
            "text/plain": [
              "130"
            ]
          },
          "metadata": {
            "tags": []
          },
          "execution_count": 9
        }
      ]
    },
    {
      "cell_type": "code",
      "metadata": {
        "id": "MJ3HT3Gotrm4",
        "colab_type": "code",
        "colab": {
          "base_uri": "https://localhost:8080/",
          "height": 35
        },
        "outputId": "d83c86ef-6c27-4382-bf3f-f97675dc6a9f"
      },
      "source": [
        "10 * 10 + 10*20 "
      ],
      "execution_count": 10,
      "outputs": [
        {
          "output_type": "execute_result",
          "data": {
            "text/plain": [
              "300"
            ]
          },
          "metadata": {
            "tags": []
          },
          "execution_count": 10
        }
      ]
    },
    {
      "cell_type": "code",
      "metadata": {
        "id": "RQqCe_U8FH7r",
        "colab_type": "code",
        "colab": {
          "base_uri": "https://localhost:8080/",
          "height": 35
        },
        "outputId": "91cb28c8-1257-431d-acfa-a320cecb2a15"
      },
      "source": [
        "(10*10)+(10*20)"
      ],
      "execution_count": 11,
      "outputs": [
        {
          "output_type": "execute_result",
          "data": {
            "text/plain": [
              "300"
            ]
          },
          "metadata": {
            "tags": []
          },
          "execution_count": 11
        }
      ]
    },
    {
      "cell_type": "markdown",
      "metadata": {
        "id": "Fc4Jy-mCsK9D",
        "colab_type": "text"
      },
      "source": [
        "O sinal usado por python para potências algebraicas é **\n"
      ]
    },
    {
      "cell_type": "code",
      "metadata": {
        "id": "l2B7xdAgsKZK",
        "colab_type": "code",
        "colab": {
          "base_uri": "https://localhost:8080/",
          "height": 35
        },
        "outputId": "aa83bcb1-eb54-4c1e-ad69-cd7cc1cb5bde"
      },
      "source": [
        "# É o mesmo que 2^3 (dois ao cubo)\n",
        "2**4   "
      ],
      "execution_count": 12,
      "outputs": [
        {
          "output_type": "execute_result",
          "data": {
            "text/plain": [
              "16"
            ]
          },
          "metadata": {
            "tags": []
          },
          "execution_count": 12
        }
      ]
    },
    {
      "cell_type": "code",
      "metadata": {
        "id": "NqdiTpL3Y9OT",
        "colab_type": "code",
        "colab": {
          "base_uri": "https://localhost:8080/",
          "height": 35
        },
        "outputId": "de3b71c2-d0cf-464b-e4ca-8f3ef4b77f33"
      },
      "source": [
        "#pow()\n",
        "pow(2,4) \n"
      ],
      "execution_count": 13,
      "outputs": [
        {
          "output_type": "execute_result",
          "data": {
            "text/plain": [
              "16"
            ]
          },
          "metadata": {
            "tags": []
          },
          "execution_count": 13
        }
      ]
    },
    {
      "cell_type": "code",
      "metadata": {
        "id": "JbRrD82JsVRD",
        "colab_type": "code",
        "colab": {}
      },
      "source": [
        "# Dois elevado a 9 \n",
        "2**(3+6) "
      ],
      "execution_count": 0,
      "outputs": []
    },
    {
      "cell_type": "markdown",
      "metadata": {
        "id": "q4x7j15nxx5x",
        "colab_type": "text"
      },
      "source": [
        "E a raiz quadrada?\n",
        "\n",
        "Lembrando que $\\sqrt{𝑥} = 𝑥^{1/2}$ , então podemos calcular a raiz quadrada do seguinte modo"
      ]
    },
    {
      "cell_type": "code",
      "metadata": {
        "id": "A4OjkrahxxFS",
        "colab_type": "code",
        "colab": {
          "base_uri": "https://localhost:8080/",
          "height": 35
        },
        "outputId": "f044c626-a48e-412a-f009-26b60a0af601"
      },
      "source": [
        "4**(1/2) "
      ],
      "execution_count": 14,
      "outputs": [
        {
          "output_type": "execute_result",
          "data": {
            "text/plain": [
              "2.0"
            ]
          },
          "metadata": {
            "tags": []
          },
          "execution_count": 14
        }
      ]
    },
    {
      "cell_type": "code",
      "metadata": {
        "id": "H9mmQ0QjGDbt",
        "colab_type": "code",
        "colab": {
          "base_uri": "https://localhost:8080/",
          "height": 35
        },
        "outputId": "2df09538-1a54-4b34-a7a1-be095b380c9e"
      },
      "source": [
        "4**(1/3)"
      ],
      "execution_count": 15,
      "outputs": [
        {
          "output_type": "execute_result",
          "data": {
            "text/plain": [
              "1.5874010519681994"
            ]
          },
          "metadata": {
            "tags": []
          },
          "execution_count": 15
        }
      ]
    },
    {
      "cell_type": "markdown",
      "metadata": {
        "id": "5G1yFI5qyP__",
        "colab_type": "text"
      },
      "source": [
        "Mas a maneira recomendada para fazer isso é usar a função sqrt() da biblioteca math"
      ]
    },
    {
      "cell_type": "code",
      "metadata": {
        "id": "cIYtzML4FZ79",
        "colab_type": "code",
        "colab": {
          "base_uri": "https://localhost:8080/",
          "height": 35
        },
        "outputId": "28395ea4-d713-4873-a26f-5aad1469d2dc"
      },
      "source": [
        "import math \n",
        "math.sqrt(4)"
      ],
      "execution_count": 18,
      "outputs": [
        {
          "output_type": "execute_result",
          "data": {
            "text/plain": [
              "2.0"
            ]
          },
          "metadata": {
            "tags": []
          },
          "execution_count": 18
        }
      ]
    },
    {
      "cell_type": "markdown",
      "metadata": {
        "id": "sQKChaPtyfhI",
        "colab_type": "text"
      },
      "source": [
        "E se precisarmos utilizar o número 𝜋?"
      ]
    },
    {
      "cell_type": "code",
      "metadata": {
        "id": "kJvw7hCQyhIo",
        "colab_type": "code",
        "colab": {
          "base_uri": "https://localhost:8080/",
          "height": 35
        },
        "outputId": "c74f7737-07ff-42af-9d46-89cc87836017"
      },
      "source": [
        "math.pi"
      ],
      "execution_count": 19,
      "outputs": [
        {
          "output_type": "execute_result",
          "data": {
            "text/plain": [
              "3.141592653589793"
            ]
          },
          "metadata": {
            "tags": []
          },
          "execution_count": 19
        }
      ]
    },
    {
      "cell_type": "markdown",
      "metadata": {
        "id": "7XwIfRsksm9T",
        "colab_type": "text"
      },
      "source": [
        "Quanto deve ser o resultado de  2**(3+6)%7 ?\n"
      ]
    },
    {
      "cell_type": "markdown",
      "metadata": {
        "id": "-ipuheLDZhdW",
        "colab_type": "text"
      },
      "source": [
        "Valor absoluto\n"
      ]
    },
    {
      "cell_type": "code",
      "metadata": {
        "id": "ydBV9OqJZeOo",
        "colab_type": "code",
        "colab": {
          "base_uri": "https://localhost:8080/",
          "height": 35
        },
        "outputId": "2810745a-11fa-48fe-cbc8-e657fe763585"
      },
      "source": [
        "abs(-3) "
      ],
      "execution_count": 20,
      "outputs": [
        {
          "output_type": "execute_result",
          "data": {
            "text/plain": [
              "3"
            ]
          },
          "metadata": {
            "tags": []
          },
          "execution_count": 20
        }
      ]
    },
    {
      "cell_type": "markdown",
      "metadata": {
        "id": "PcFzKN3jZojV",
        "colab_type": "text"
      },
      "source": [
        "Round, Reduz um número para uma precisão dada em dígitos decimais (0 dígitos padrão). Este método sempre retorna um número de ponto flutuante\n"
      ]
    },
    {
      "cell_type": "code",
      "metadata": {
        "id": "NaNW2bybZuDG",
        "colab_type": "code",
        "colab": {
          "base_uri": "https://localhost:8080/",
          "height": 35
        },
        "outputId": "72f6a93c-cbd0-41d1-a6fe-097823c4c4b1"
      },
      "source": [
        "round(15.6)"
      ],
      "execution_count": 21,
      "outputs": [
        {
          "output_type": "execute_result",
          "data": {
            "text/plain": [
              "16"
            ]
          },
          "metadata": {
            "tags": []
          },
          "execution_count": 21
        }
      ]
    },
    {
      "cell_type": "code",
      "metadata": {
        "id": "YzNoor-9Zz2A",
        "colab_type": "code",
        "colab": {
          "base_uri": "https://localhost:8080/",
          "height": 35
        },
        "outputId": "a932993a-f532-4cdd-d97e-4c10cf9cc899"
      },
      "source": [
        "round(3.1415926535)"
      ],
      "execution_count": 22,
      "outputs": [
        {
          "output_type": "execute_result",
          "data": {
            "text/plain": [
              "3"
            ]
          },
          "metadata": {
            "tags": []
          },
          "execution_count": 22
        }
      ]
    },
    {
      "cell_type": "markdown",
      "metadata": {
        "id": "JnHATsKHZ9l-",
        "colab_type": "text"
      },
      "source": [
        "O Python possui uma biblioteca de matemática integrada que também é úti caso você precise de algumas operações matemáticas. Explore a documentação https://docs.python.org/2/library/math.html"
      ]
    },
    {
      "cell_type": "markdown",
      "metadata": {
        "id": "TXNRIMX6_Hel",
        "colab_type": "text"
      },
      "source": [
        "C) **Atribuições de Variaveis**\n",
        "\n",
        "Agora que vimos como usar números em Python como calculadora, vejamos como podemos atribuir nomes e criar variáveis.\n",
        "\n",
        "Usamos um único sinal de igual para atribuir rótulos às variáveis. Vejamos alguns exemplos:\n"
      ]
    },
    {
      "cell_type": "code",
      "metadata": {
        "id": "fFEMzZyB_NO3",
        "colab_type": "code",
        "colab": {
          "base_uri": "https://localhost:8080/",
          "height": 35
        },
        "outputId": "45ac243d-bafc-4adc-e9fd-c16322ac69eb"
      },
      "source": [
        "# Vamos criar uma variavel e atribuir o número 10\n",
        "numero1 = 10  \n",
        "print(numero1) "
      ],
      "execution_count": 24,
      "outputs": [
        {
          "output_type": "stream",
          "text": [
            "10\n"
          ],
          "name": "stdout"
        }
      ]
    },
    {
      "cell_type": "code",
      "metadata": {
        "id": "FodItCp-_iKs",
        "colab_type": "code",
        "colab": {
          "base_uri": "https://localhost:8080/",
          "height": 35
        },
        "outputId": "c11bb1c8-c815-46a2-c634-41877eef3471"
      },
      "source": [
        "# Somando variaveis\n",
        "numero1+numero1  "
      ],
      "execution_count": 25,
      "outputs": [
        {
          "output_type": "execute_result",
          "data": {
            "text/plain": [
              "20"
            ]
          },
          "metadata": {
            "tags": []
          },
          "execution_count": 25
        }
      ]
    },
    {
      "cell_type": "code",
      "metadata": {
        "id": "y5LJUCLS_vFa",
        "colab_type": "code",
        "colab": {
          "base_uri": "https://localhost:8080/",
          "height": 35
        },
        "outputId": "4a3ffae9-360b-4478-d92c-a130658bd62e"
      },
      "source": [
        "# Redefinição\n",
        "numero1 = 15 \n",
        "print(numero1)"
      ],
      "execution_count": 26,
      "outputs": [
        {
          "output_type": "stream",
          "text": [
            "15\n"
          ],
          "name": "stdout"
        }
      ]
    },
    {
      "cell_type": "code",
      "metadata": {
        "id": "qPNiSrzKvZki",
        "colab_type": "code",
        "outputId": "3b242d82-e140-49d7-b4cf-3ee11c220af3",
        "colab": {
          "base_uri": "https://localhost:8080/",
          "height": 35
        }
      },
      "source": [
        "numero1+ numero1"
      ],
      "execution_count": 27,
      "outputs": [
        {
          "output_type": "execute_result",
          "data": {
            "text/plain": [
              "30"
            ]
          },
          "metadata": {
            "tags": []
          },
          "execution_count": 27
        }
      ]
    },
    {
      "cell_type": "code",
      "metadata": {
        "id": "4gGcDGs1JOSx",
        "colab_type": "code",
        "colab": {
          "base_uri": "https://localhost:8080/",
          "height": 35
        },
        "outputId": "1f139056-43bb-420f-9467-b8fc29e9aee7"
      },
      "source": [
        "x = 100\n",
        "y = 200\n",
        "z = 100\n",
        "w = (x + y) * z / 100\n",
        "print(w) "
      ],
      "execution_count": 30,
      "outputs": [
        {
          "output_type": "stream",
          "text": [
            "300.0\n"
          ],
          "name": "stdout"
        }
      ]
    },
    {
      "cell_type": "markdown",
      "metadata": {
        "id": "kmfsDCxiqOqH",
        "colab_type": "text"
      },
      "source": [
        "## 1.3 Operadores relacionais"
      ]
    },
    {
      "cell_type": "code",
      "metadata": {
        "id": "ZqJZKtawqyY-",
        "colab_type": "code",
        "colab": {
          "base_uri": "https://localhost:8080/",
          "height": 35
        },
        "outputId": "2950fffc-7359-4ea3-88c8-9a38a72afc59"
      },
      "source": [
        "# == testa igualdade\n",
        "numero1=10 \n",
        "numero2=20\n",
        "print(numero1 == numero2) "
      ],
      "execution_count": 35,
      "outputs": [
        {
          "output_type": "stream",
          "text": [
            "False\n"
          ],
          "name": "stdout"
        }
      ]
    },
    {
      "cell_type": "code",
      "metadata": {
        "id": "6RbhYbuRrJJ1",
        "colab_type": "code",
        "colab": {
          "base_uri": "https://localhost:8080/",
          "height": 35
        },
        "outputId": "1fc53b64-0e9b-467e-d52b-11c25ebf35f3"
      },
      "source": [
        "# != testa se são diferentes\n",
        "print(numero1 != numero2) "
      ],
      "execution_count": 36,
      "outputs": [
        {
          "output_type": "stream",
          "text": [
            "True\n"
          ],
          "name": "stdout"
        }
      ]
    },
    {
      "cell_type": "code",
      "metadata": {
        "id": "L_aIrvgzrOt7",
        "colab_type": "code",
        "colab": {
          "base_uri": "https://localhost:8080/",
          "height": 35
        },
        "outputId": "7916295c-09c3-447a-8602-50eb3a10a3a4"
      },
      "source": [
        "# > testa se um é maior que outro\n",
        "numero1 > numero2   "
      ],
      "execution_count": 37,
      "outputs": [
        {
          "output_type": "execute_result",
          "data": {
            "text/plain": [
              "False"
            ]
          },
          "metadata": {
            "tags": []
          },
          "execution_count": 37
        }
      ]
    },
    {
      "cell_type": "code",
      "metadata": {
        "id": "ub8djab1rmUS",
        "colab_type": "code",
        "colab": {
          "base_uri": "https://localhost:8080/",
          "height": 35
        },
        "outputId": "457038a1-07d8-4d1f-b426-6c206720c75a"
      },
      "source": [
        "# < \n",
        "numero1 < numero2 "
      ],
      "execution_count": 38,
      "outputs": [
        {
          "output_type": "execute_result",
          "data": {
            "text/plain": [
              "True"
            ]
          },
          "metadata": {
            "tags": []
          },
          "execution_count": 38
        }
      ]
    },
    {
      "cell_type": "code",
      "metadata": {
        "id": "CTYuUmGMrq0b",
        "colab_type": "code",
        "colab": {
          "base_uri": "https://localhost:8080/",
          "height": 35
        },
        "outputId": "3cea8b07-2345-447e-d149-40bb7b759d78"
      },
      "source": [
        "# testa  o dobro\n",
        "2*numero1 >= numero2  "
      ],
      "execution_count": 39,
      "outputs": [
        {
          "output_type": "execute_result",
          "data": {
            "text/plain": [
              "True"
            ]
          },
          "metadata": {
            "tags": []
          },
          "execution_count": 39
        }
      ]
    }
  ]
}