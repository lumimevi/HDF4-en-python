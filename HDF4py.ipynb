{
 "cells": [
  {
   "cell_type": "code",
   "execution_count": null,
   "metadata": {
    "collapsed": true
   },
   "outputs": [],
   "source": [
    "# Con ayuda deste codigo, vamos a leer un archivo HDF, recuerda que los archivos HDF son tipo carpetas, es para que se entienda la logica.\n",
    "# los archivos HDF4 podemos encontrar en site de la NASA\n"
   ]
  },
  {
   "cell_type": "code",
   "execution_count": 1,
   "metadata": {
    "collapsed": true
   },
   "outputs": [],
   "source": [
    "from numpy import*"
   ]
  },
  {
   "cell_type": "code",
   "execution_count": 2,
   "metadata": {
    "collapsed": true
   },
   "outputs": [],
   "source": [
    "import numpy as np"
   ]
  },
  {
   "cell_type": "code",
   "execution_count": 3,
   "metadata": {
    "collapsed": true
   },
   "outputs": [],
   "source": [
    "import pandas as pd"
   ]
  },
  {
   "cell_type": "code",
   "execution_count": 4,
   "metadata": {
    "collapsed": true
   },
   "outputs": [],
   "source": [
    "import gdal"
   ]
  },
  {
   "cell_type": "code",
   "execution_count": 5,
   "metadata": {
    "collapsed": true
   },
   "outputs": [],
   "source": [
    "from datetime import datetime"
   ]
  },
  {
   "cell_type": "code",
   "execution_count": 6,
   "metadata": {
    "collapsed": true
   },
   "outputs": [],
   "source": [
    "from pyhdf.SD import SD, SDC"
   ]
  },
  {
   "cell_type": "code",
   "execution_count": 7,
   "metadata": {
    "collapsed": true
   },
   "outputs": [],
   "source": [
    "# caso precise leer netCDF4"
   ]
  },
  {
   "cell_type": "code",
   "execution_count": 8,
   "metadata": {
    "collapsed": true
   },
   "outputs": [],
   "source": [
    "from netCDF4 import Dataset as NetCDFFile"
   ]
  },
  {
   "cell_type": "code",
   "execution_count": 9,
   "metadata": {
    "collapsed": true
   },
   "outputs": [],
   "source": [
    "import os"
   ]
  },
  {
   "cell_type": "code",
   "execution_count": 10,
   "metadata": {
    "collapsed": true
   },
   "outputs": [],
   "source": [
    "from osgeo import gdal"
   ]
  },
  {
   "cell_type": "code",
   "execution_count": 11,
   "metadata": {
    "collapsed": true
   },
   "outputs": [],
   "source": [
    "import matplotlib as mpl"
   ]
  },
  {
   "cell_type": "code",
   "execution_count": 12,
   "metadata": {
    "collapsed": true
   },
   "outputs": [],
   "source": [
    "import struct"
   ]
  },
  {
   "cell_type": "code",
   "execution_count": 13,
   "metadata": {
    "collapsed": true
   },
   "outputs": [],
   "source": [
    "import matplotlib"
   ]
  },
  {
   "cell_type": "code",
   "execution_count": 14,
   "metadata": {
    "collapsed": true
   },
   "outputs": [],
   "source": [
    "from matplotlib.pyplot import imshow"
   ]
  },
  {
   "cell_type": "code",
   "execution_count": 15,
   "metadata": {
    "collapsed": true,
    "scrolled": true
   },
   "outputs": [],
   "source": [
    "from mpl_toolkits.basemap import Basemap"
   ]
  },
  {
   "cell_type": "code",
   "execution_count": 16,
   "metadata": {
    "collapsed": true
   },
   "outputs": [],
   "source": [
    "from scipy.interpolate import griddata"
   ]
  },
  {
   "cell_type": "code",
   "execution_count": 17,
   "metadata": {
    "collapsed": true
   },
   "outputs": [],
   "source": [
    "import matplotlib.pyplot as plt"
   ]
  },
  {
   "cell_type": "code",
   "execution_count": 18,
   "metadata": {
    "collapsed": true
   },
   "outputs": [],
   "source": [
    "import h5py"
   ]
  },
  {
   "cell_type": "code",
   "execution_count": 19,
   "metadata": {
    "collapsed": true
   },
   "outputs": [],
   "source": [
    "import numpy as np"
   ]
  },
  {
   "cell_type": "code",
   "execution_count": 20,
   "metadata": {
    "collapsed": true
   },
   "outputs": [],
   "source": [
    "from pyhdf.SD import SD, SDC"
   ]
  },
  {
   "cell_type": "code",
   "execution_count": 21,
   "metadata": {
    "collapsed": true
   },
   "outputs": [],
   "source": [
    "import matplotlib.pyplot as plt"
   ]
  },
  {
   "cell_type": "code",
   "execution_count": null,
   "metadata": {
    "collapsed": true
   },
   "outputs": [],
   "source": [
    "# llamamos a nuestro archivo HDF4"
   ]
  },
  {
   "cell_type": "code",
   "execution_count": 22,
   "metadata": {
    "collapsed": true
   },
   "outputs": [],
   "source": [
    "file = '2A25.19980401.01963.7.HDF'\n"
   ]
  },
  {
   "cell_type": "code",
   "execution_count": 23,
   "metadata": {
    "collapsed": true
   },
   "outputs": [],
   "source": [
    "hdf = SD(file, SDC.READ)"
   ]
  },
  {
   "cell_type": "code",
   "execution_count": null,
   "metadata": {
    "collapsed": true
   },
   "outputs": [],
   "source": [
    "#vamos a formar um conjunto de daatos con el archivo"
   ]
  },
  {
   "cell_type": "code",
   "execution_count": 24,
   "metadata": {
    "collapsed": true
   },
   "outputs": [],
   "source": [
    "file2= hdf.datasets()\n"
   ]
  },
  {
   "cell_type": "code",
   "execution_count": 129,
   "metadata": {},
   "outputs": [
    {
     "name": "stdout",
     "output_type": "stream",
     "text": [
      "{'mainlobeEdge': (('nray',), (49,), 20, 0), 'sidelobeRange': (('nray', 'fakeDim1'), (49, 3), 20, 1), 'Year': (('nscan',), (9141,), 22, 2), 'Month': (('nscan',), (9141,), 20, 3), 'DayOfMonth': (('nscan',), (9141,), 20, 4), 'Hour': (('nscan',), (9141,), 20, 5), 'Minute': (('nscan',), (9141,), 20, 6), 'Second': (('nscan',), (9141,), 20, 7), 'MilliSecond': (('nscan',), (9141,), 22, 8), 'DayOfYear': (('nscan',), (9141,), 22, 9), 'scanTime_sec': (('nscan',), (9141,), 6, 10), 'Latitude': (('nscan', 'nray'), (9141, 49), 5, 11), 'Longitude': (('nscan', 'nray'), (9141, 49), 5, 12), 'missing': (('nscan',), (9141,), 20, 13), 'validity': (('nscan',), (9141,), 20, 14), 'qac': (('nscan',), (9141,), 20, 15), 'geoQuality': (('nscan',), (9141,), 20, 16), 'dataQuality': (('nscan',), (9141,), 20, 17), 'SCorientation': (('nscan',), (9141,), 22, 18), 'acsMode': (('nscan',), (9141,), 20, 19), 'yawUpdateS': (('nscan',), (9141,), 20, 20), 'prMode': (('nscan',), (9141,), 20, 21), 'prStatus1': (('nscan',), (9141,), 20, 22), 'prStatus2': (('nscan',), (9141,), 20, 23), 'FractionalGranuleNumber': (('nscan',), (9141,), 6, 24), 'scPosX': (('nscan',), (9141,), 5, 25), 'scPosY': (('nscan',), (9141,), 5, 26), 'scPosZ': (('nscan',), (9141,), 5, 27), 'scVelX': (('nscan',), (9141,), 5, 28), 'scVelY': (('nscan',), (9141,), 5, 29), 'scVelZ': (('nscan',), (9141,), 5, 30), 'scLat': (('nscan',), (9141,), 5, 31), 'scLon': (('nscan',), (9141,), 5, 32), 'scAlt': (('nscan',), (9141,), 5, 33), 'scAttRoll': (('nscan',), (9141,), 5, 34), 'scAttPitch': (('nscan',), (9141,), 5, 35), 'scAttYaw': (('nscan',), (9141,), 5, 36), 'SensorOrientationMatrix': (('nscan', 'fakeDim3', 'fakeDim4'), (9141, 3, 3), 5, 37), 'greenHourAng': (('nscan',), (9141,), 5, 38), 'scLocalZenith': (('nscan', 'nray'), (9141, 49), 5, 39), 'rain': (('nscan', 'nray', 'ncell1'), (9141, 49, 80), 22, 40), 'reliab': (('nscan', 'nray', 'ncell1'), (9141, 49, 80), 20, 41), 'correctZFactor': (('nscan', 'nray', 'ncell1'), (9141, 49, 80), 22, 42), 'attenParmAlpha': (('nscan', 'nray', 'ncell2'), (9141, 49, 5), 5, 43), 'attenParmBeta': (('nscan', 'nray'), (9141, 49), 5, 44), 'parmNode': (('nscan', 'nray', 'ncell2'), (9141, 49, 5), 22, 45), 'precipWaterParmA': (('nscan', 'nray', 'ncell2'), (9141, 49, 5), 5, 46), 'precipWaterParmB': (('nscan', 'nray', 'ncell2'), (9141, 49, 5), 5, 47), 'ZRParmA': (('nscan', 'nray', 'ncell2'), (9141, 49, 5), 5, 48), 'ZRParmB': (('nscan', 'nray', 'ncell2'), (9141, 49, 5), 5, 49), 'zmmax': (('nscan', 'nray'), (9141, 49), 5, 50), 'rainFlag': (('nscan', 'nray'), (9141, 49), 22, 51), 'rangeBinNum': (('nscan', 'nray', 'fakeDim7'), (9141, 49, 7), 22, 52), 'rainAve': (('nscan', 'nray', 'fakeDim8'), (9141, 49, 2), 5, 53), 'precipWaterSum': (('nscan', 'nray', 'fakeDim9'), (9141, 49, 2), 5, 54), 'epsilon_0': (('nscan', 'nray'), (9141, 49), 5, 55), 'method': (('nscan', 'nray'), (9141, 49), 22, 56), 'epsilon': (('nscan', 'nray'), (9141, 49), 5, 57), 'epsilon_alpha': (('nscan', 'nray'), (9141, 49), 5, 58), 'epsilon_nubf': (('nscan', 'nray'), (9141, 49), 5, 59), 'zeta': (('nscan', 'nray', 'nmeth'), (9141, 49, 2), 5, 60), 'zeta_mn': (('nscan', 'nray', 'nmeth'), (9141, 49, 2), 5, 61), 'zeta_sd': (('nscan', 'nray', 'nmeth'), (9141, 49, 2), 5, 62), 'sigmaZero': (('nscan', 'nray'), (9141, 49), 5, 63), 'freezH': (('nscan', 'nray'), (9141, 49), 5, 64), 'nubfCorrectFactor': (('nscan', 'nray', 'fakeDim11'), (9141, 49, 3), 5, 65), 'stddev_zeta': (('nscan', 'nray'), (9141, 49), 5, 66), 'stddev_PIAsrt': (('nscan', 'nray'), (9141, 49), 5, 67), 'stddev_alpha': (('nscan', 'nray'), (9141, 49), 5, 68), 'stddev_Zm': (('nscan', 'nray'), (9141, 49), 5, 69), 'qualityFlag': (('nscan', 'nray'), (9141, 49), 22, 70), 'nearSurfRain': (('nscan', 'nray'), (9141, 49), 5, 71), 'nearSurfZ': (('nscan', 'nray'), (9141, 49), 5, 72), 'e_SurfRain': (('nscan', 'nray'), (9141, 49), 5, 73), 'pia': (('nscan', 'nray', 'fakeDim12'), (9141, 49, 3), 5, 74), 'pia_srt': (('nscan', 'nray', 'nestmeth'), (9141, 49, 6), 5, 75), 'stddev_srt': (('nscan', 'nray', 'nestmeth'), (9141, 49, 6), 5, 76), 'errorRain': (('nscan', 'nray'), (9141, 49), 5, 77), 'errorZ': (('nscan', 'nray'), (9141, 49), 5, 78), 'spare': (('nscan', 'nray', 'fakeDim14'), (9141, 49, 2), 5, 79), 'rainType': (('nscan', 'nray'), (9141, 49), 22, 80)}\n"
     ]
    }
   ],
   "source": [
    "print(file2)"
   ]
  },
  {
   "cell_type": "code",
   "execution_count": null,
   "metadata": {
    "collapsed": true
   },
   "outputs": [],
   "source": [
    "#vamos a llamar a nuestra variable de interes, recuerde que esta variable esta dentro del archivo HDF4"
   ]
  },
  {
   "cell_type": "code",
   "execution_count": 56,
   "metadata": {
    "collapsed": true
   },
   "outputs": [],
   "source": [
    "DATAFIELD_NAME ='rainType'"
   ]
  },
  {
   "cell_type": "code",
   "execution_count": 57,
   "metadata": {
    "collapsed": true
   },
   "outputs": [],
   "source": [
    "data = hdf.select(DATAFIELD_NAME)[:,1]"
   ]
  },
  {
   "cell_type": "code",
   "execution_count": 58,
   "metadata": {},
   "outputs": [
    {
     "name": "stdout",
     "output_type": "stream",
     "text": [
      "[-88 -88 -88 ..., -88 -88 -88]\n"
     ]
    }
   ],
   "source": [
    "print (data)"
   ]
  },
  {
   "cell_type": "code",
   "execution_count": 59,
   "metadata": {},
   "outputs": [
    {
     "data": {
      "text/plain": [
       "['T',\n",
       " '__abs__',\n",
       " '__add__',\n",
       " '__and__',\n",
       " '__array__',\n",
       " '__array_finalize__',\n",
       " '__array_interface__',\n",
       " '__array_prepare__',\n",
       " '__array_priority__',\n",
       " '__array_struct__',\n",
       " '__array_wrap__',\n",
       " '__bool__',\n",
       " '__class__',\n",
       " '__contains__',\n",
       " '__copy__',\n",
       " '__deepcopy__',\n",
       " '__delattr__',\n",
       " '__delitem__',\n",
       " '__dir__',\n",
       " '__divmod__',\n",
       " '__doc__',\n",
       " '__eq__',\n",
       " '__float__',\n",
       " '__floordiv__',\n",
       " '__format__',\n",
       " '__ge__',\n",
       " '__getattribute__',\n",
       " '__getitem__',\n",
       " '__gt__',\n",
       " '__hash__',\n",
       " '__iadd__',\n",
       " '__iand__',\n",
       " '__ifloordiv__',\n",
       " '__ilshift__',\n",
       " '__imatmul__',\n",
       " '__imod__',\n",
       " '__imul__',\n",
       " '__index__',\n",
       " '__init__',\n",
       " '__init_subclass__',\n",
       " '__int__',\n",
       " '__invert__',\n",
       " '__ior__',\n",
       " '__ipow__',\n",
       " '__irshift__',\n",
       " '__isub__',\n",
       " '__iter__',\n",
       " '__itruediv__',\n",
       " '__ixor__',\n",
       " '__le__',\n",
       " '__len__',\n",
       " '__lshift__',\n",
       " '__lt__',\n",
       " '__matmul__',\n",
       " '__mod__',\n",
       " '__mul__',\n",
       " '__ne__',\n",
       " '__neg__',\n",
       " '__new__',\n",
       " '__or__',\n",
       " '__pos__',\n",
       " '__pow__',\n",
       " '__radd__',\n",
       " '__rand__',\n",
       " '__rdivmod__',\n",
       " '__reduce__',\n",
       " '__reduce_ex__',\n",
       " '__repr__',\n",
       " '__rfloordiv__',\n",
       " '__rlshift__',\n",
       " '__rmatmul__',\n",
       " '__rmod__',\n",
       " '__rmul__',\n",
       " '__ror__',\n",
       " '__rpow__',\n",
       " '__rrshift__',\n",
       " '__rshift__',\n",
       " '__rsub__',\n",
       " '__rtruediv__',\n",
       " '__rxor__',\n",
       " '__setattr__',\n",
       " '__setitem__',\n",
       " '__setstate__',\n",
       " '__sizeof__',\n",
       " '__str__',\n",
       " '__sub__',\n",
       " '__subclasshook__',\n",
       " '__truediv__',\n",
       " '__xor__',\n",
       " 'all',\n",
       " 'any',\n",
       " 'argmax',\n",
       " 'argmin',\n",
       " 'argpartition',\n",
       " 'argsort',\n",
       " 'astype',\n",
       " 'base',\n",
       " 'byteswap',\n",
       " 'choose',\n",
       " 'clip',\n",
       " 'compress',\n",
       " 'conj',\n",
       " 'conjugate',\n",
       " 'copy',\n",
       " 'ctypes',\n",
       " 'cumprod',\n",
       " 'cumsum',\n",
       " 'data',\n",
       " 'diagonal',\n",
       " 'dot',\n",
       " 'dtype',\n",
       " 'dump',\n",
       " 'dumps',\n",
       " 'fill',\n",
       " 'flags',\n",
       " 'flat',\n",
       " 'flatten',\n",
       " 'getfield',\n",
       " 'imag',\n",
       " 'item',\n",
       " 'itemset',\n",
       " 'itemsize',\n",
       " 'max',\n",
       " 'mean',\n",
       " 'min',\n",
       " 'nbytes',\n",
       " 'ndim',\n",
       " 'newbyteorder',\n",
       " 'nonzero',\n",
       " 'partition',\n",
       " 'prod',\n",
       " 'ptp',\n",
       " 'put',\n",
       " 'ravel',\n",
       " 'real',\n",
       " 'repeat',\n",
       " 'reshape',\n",
       " 'resize',\n",
       " 'round',\n",
       " 'searchsorted',\n",
       " 'setfield',\n",
       " 'setflags',\n",
       " 'shape',\n",
       " 'size',\n",
       " 'sort',\n",
       " 'squeeze',\n",
       " 'std',\n",
       " 'strides',\n",
       " 'sum',\n",
       " 'swapaxes',\n",
       " 'take',\n",
       " 'tobytes',\n",
       " 'tofile',\n",
       " 'tolist',\n",
       " 'tostring',\n",
       " 'trace',\n",
       " 'transpose',\n",
       " 'var',\n",
       " 'view']"
      ]
     },
     "execution_count": 59,
     "metadata": {},
     "output_type": "execute_result"
    }
   ],
   "source": [
    "dir(data)"
   ]
  },
  {
   "cell_type": "code",
   "execution_count": 60,
   "metadata": {
    "collapsed": true
   },
   "outputs": [],
   "source": [
    "lat = hdf.select('Latitude')[:,0]"
   ]
  },
  {
   "cell_type": "code",
   "execution_count": 61,
   "metadata": {},
   "outputs": [
    {
     "name": "stdout",
     "output_type": "stream",
     "text": [
      "[-34.16244507 -34.16252136 -34.16236877 ..., -34.16270065 -34.16270828\n",
      " -34.16266251]\n"
     ]
    }
   ],
   "source": [
    "print (lat)"
   ]
  },
  {
   "cell_type": "code",
   "execution_count": 62,
   "metadata": {
    "collapsed": true
   },
   "outputs": [],
   "source": [
    "lon = hdf.select('Longitude')[:,18]"
   ]
  },
  {
   "cell_type": "code",
   "execution_count": 63,
   "metadata": {},
   "outputs": [
    {
     "name": "stdout",
     "output_type": "stream",
     "text": [
      "[-114.74568176 -114.70034027 -114.65492249 ..., -138.16333008 -138.11831665\n",
      " -138.07279968]\n"
     ]
    }
   ],
   "source": [
    "print (lon)"
   ]
  },
  {
   "cell_type": "code",
   "execution_count": 64,
   "metadata": {
    "collapsed": true
   },
   "outputs": [],
   "source": [
    "m = Basemap(projection='cyl', resolution='l', llcrnrlat=-45, urcrnrlat = 45, llcrnrlon=-90, urcrnrlon = -30)"
   ]
  },
  {
   "cell_type": "code",
   "execution_count": 65,
   "metadata": {},
   "outputs": [
    {
     "data": {
      "text/plain": [
       "<matplotlib.collections.LineCollection at 0x7f313678d048>"
      ]
     },
     "execution_count": 65,
     "metadata": {},
     "output_type": "execute_result"
    }
   ],
   "source": [
    "m.drawcoastlines(linewidth=0.5)"
   ]
  },
  {
   "cell_type": "code",
   "execution_count": 66,
   "metadata": {},
   "outputs": [
    {
     "data": {
      "text/plain": [
       "{-30.0: ([<matplotlib.lines.Line2D at 0x7f31367a6358>],\n",
       "  [Text(-90.6,-29.97,'30°S')]),\n",
       " 0.0: ([<matplotlib.lines.Line2D at 0x7f31367a6828>], [Text(-90.6,0.09,'0°')]),\n",
       " 30.0: ([<matplotlib.lines.Line2D at 0x7f31367a6c18>],\n",
       "  [Text(-90.6,30.06,'30°N')])}"
      ]
     },
     "execution_count": 66,
     "metadata": {},
     "output_type": "execute_result"
    }
   ],
   "source": [
    "m.drawparallels(np.arange(-90., 120., 30.), labels=[1, 0, 0, 0])"
   ]
  },
  {
   "cell_type": "code",
   "execution_count": 67,
   "metadata": {},
   "outputs": [
    {
     "data": {
      "text/plain": [
       "{-90.0: ([<matplotlib.lines.Line2D at 0x7f31367bb978>],\n",
       "  [Text(-89.94,-46.35,'90°W')]),\n",
       " -45.0: ([<matplotlib.lines.Line2D at 0x7f31367bbc18>],\n",
       "  [Text(-44.94,-46.35,'45°W')])}"
      ]
     },
     "execution_count": 67,
     "metadata": {},
     "output_type": "execute_result"
    }
   ],
   "source": [
    "m.drawmeridians(np.arange(-180., 181., 45.), labels=[0, 0, 0, 1])"
   ]
  },
  {
   "cell_type": "code",
   "execution_count": 68,
   "metadata": {
    "collapsed": true
   },
   "outputs": [],
   "source": [
    "x,y = m(lon, lat)"
   ]
  },
  {
   "cell_type": "code",
   "execution_count": 45,
   "metadata": {
    "collapsed": true
   },
   "outputs": [],
   "source": [
    "datax = np.array(x)"
   ]
  },
  {
   "cell_type": "code",
   "execution_count": 46,
   "metadata": {},
   "outputs": [
    {
     "name": "stdout",
     "output_type": "stream",
     "text": [
      "[-114.74568176 -114.70034027 -114.65492249 ..., -138.16333008 -138.11831665\n",
      " -138.07279968]\n"
     ]
    }
   ],
   "source": [
    "print (datax)"
   ]
  },
  {
   "cell_type": "code",
   "execution_count": 47,
   "metadata": {
    "collapsed": true
   },
   "outputs": [],
   "source": [
    "Frame2X = pd.DataFrame(datax)"
   ]
  },
  {
   "cell_type": "code",
   "execution_count": 185,
   "metadata": {},
   "outputs": [
    {
     "name": "stdout",
     "output_type": "stream",
     "text": [
      "               0\n",
      "0    -114.745682\n",
      "1    -114.700340\n",
      "2    -114.654922\n",
      "3    -114.609337\n",
      "4    -114.564186\n",
      "5    -114.518913\n",
      "6    -114.473671\n",
      "7    -114.428261\n",
      "8    -114.383064\n",
      "9    -114.337608\n",
      "10   -114.292435\n",
      "11   -114.247070\n",
      "12   -114.201767\n",
      "13   -114.156471\n",
      "14   -114.111328\n",
      "15   -114.065849\n",
      "16   -114.020615\n",
      "17   -113.975143\n",
      "18   -113.929840\n",
      "19   -113.884666\n",
      "20   -113.839195\n",
      "21   -113.793930\n",
      "22   -113.748886\n",
      "23   -113.703491\n",
      "24   -113.658218\n",
      "25   -113.612610\n",
      "26   -113.567261\n",
      "27   -113.521896\n",
      "28   -113.476746\n",
      "29   -113.431274\n",
      "...          ...\n",
      "9111 -139.387161\n",
      "9112 -139.341858\n",
      "9113 -139.296524\n",
      "9114 -139.251404\n",
      "9115 -139.205795\n",
      "9116 -139.160645\n",
      "9117 -139.115112\n",
      "9118 -139.070053\n",
      "9119 -139.024719\n",
      "9120 -138.979385\n",
      "9121 -138.933975\n",
      "9122 -138.888641\n",
      "9123 -138.843384\n",
      "9124 -138.797989\n",
      "9125 -138.752625\n",
      "9126 -138.707413\n",
      "9127 -138.661987\n",
      "9128 -138.616653\n",
      "9129 -138.571259\n",
      "9130 -138.526001\n",
      "9131 -138.480865\n",
      "9132 -138.435471\n",
      "9133 -138.390091\n",
      "9134 -138.344910\n",
      "9135 -138.299377\n",
      "9136 -138.254440\n",
      "9137 -138.208694\n",
      "9138 -138.163330\n",
      "9139 -138.118317\n",
      "9140 -138.072800\n",
      "\n",
      "[9141 rows x 1 columns]\n"
     ]
    }
   ],
   "source": [
    "print (Frame2X)"
   ]
  },
  {
   "cell_type": "code",
   "execution_count": 48,
   "metadata": {
    "collapsed": true
   },
   "outputs": [],
   "source": [
    "datay = np.array(y)"
   ]
  },
  {
   "cell_type": "code",
   "execution_count": 49,
   "metadata": {
    "collapsed": true
   },
   "outputs": [],
   "source": [
    "Frame2Y = pd.DataFrame(datay)"
   ]
  },
  {
   "cell_type": "code",
   "execution_count": 50,
   "metadata": {},
   "outputs": [
    {
     "name": "stdout",
     "output_type": "stream",
     "text": [
      "              0\n",
      "0    -34.162445\n",
      "1    -34.162521\n",
      "2    -34.162369\n",
      "3    -34.162468\n",
      "4    -34.162327\n",
      "5    -34.162197\n",
      "6    -34.162197\n",
      "7    -34.161995\n",
      "8    -34.161793\n",
      "9    -34.161678\n",
      "10   -34.161366\n",
      "11   -34.161304\n",
      "12   -34.161057\n",
      "13   -34.160789\n",
      "14   -34.160439\n",
      "15   -34.160091\n",
      "16   -34.159927\n",
      "17   -34.159626\n",
      "18   -34.159336\n",
      "19   -34.158924\n",
      "20   -34.158512\n",
      "21   -34.158165\n",
      "22   -34.157764\n",
      "23   -34.157558\n",
      "24   -34.156879\n",
      "25   -34.156384\n",
      "26   -34.156006\n",
      "27   -34.155426\n",
      "28   -34.154846\n",
      "29   -34.154163\n",
      "...         ...\n",
      "9111 -34.154888\n",
      "9112 -34.155315\n",
      "9113 -34.155819\n",
      "9114 -34.156250\n",
      "9115 -34.156841\n",
      "9116 -34.157223\n",
      "9117 -34.157867\n",
      "9118 -34.158085\n",
      "9119 -34.158531\n",
      "9120 -34.158745\n",
      "9121 -34.159111\n",
      "9122 -34.159595\n",
      "9123 -34.160042\n",
      "9124 -34.160416\n",
      "9125 -34.160534\n",
      "9126 -34.160820\n",
      "9127 -34.161312\n",
      "9128 -34.161297\n",
      "9129 -34.161613\n",
      "9130 -34.162106\n",
      "9131 -34.161842\n",
      "9132 -34.162014\n",
      "9133 -34.162117\n",
      "9134 -34.162312\n",
      "9135 -34.162449\n",
      "9136 -34.162514\n",
      "9137 -34.162609\n",
      "9138 -34.162701\n",
      "9139 -34.162708\n",
      "9140 -34.162663\n",
      "\n",
      "[9141 rows x 1 columns]\n"
     ]
    }
   ],
   "source": [
    "print (Frame2Y)"
   ]
  },
  {
   "cell_type": "code",
   "execution_count": 69,
   "metadata": {
    "collapsed": true
   },
   "outputs": [],
   "source": [
    "datarainType = np.array(data)"
   ]
  },
  {
   "cell_type": "code",
   "execution_count": 70,
   "metadata": {
    "collapsed": true
   },
   "outputs": [],
   "source": [
    "FramerainType = pd.DataFrame(datarainType)"
   ]
  },
  {
   "cell_type": "code",
   "execution_count": 71,
   "metadata": {},
   "outputs": [
    {
     "name": "stdout",
     "output_type": "stream",
     "text": [
      "        0\n",
      "0     -88\n",
      "1     -88\n",
      "2     -88\n",
      "3     -88\n",
      "4     -88\n",
      "5     -88\n",
      "6     -88\n",
      "7     -88\n",
      "8     -88\n",
      "9     300\n",
      "10    -88\n",
      "11    210\n",
      "12    210\n",
      "13    -88\n",
      "14    -88\n",
      "15    -88\n",
      "16    -88\n",
      "17    -88\n",
      "18    -88\n",
      "19    -88\n",
      "20    -88\n",
      "21    -88\n",
      "22    -88\n",
      "23    -88\n",
      "24    -88\n",
      "25    -88\n",
      "26    -88\n",
      "27    -88\n",
      "28    -88\n",
      "29    -88\n",
      "...   ...\n",
      "9111  -88\n",
      "9112  -88\n",
      "9113  -88\n",
      "9114  -88\n",
      "9115  -88\n",
      "9116  -88\n",
      "9117  -88\n",
      "9118  -88\n",
      "9119  -88\n",
      "9120  -88\n",
      "9121  -88\n",
      "9122  -88\n",
      "9123  300\n",
      "9124  -88\n",
      "9125  -88\n",
      "9126  300\n",
      "9127  -88\n",
      "9128  -88\n",
      "9129  -88\n",
      "9130  -88\n",
      "9131  -88\n",
      "9132  -88\n",
      "9133  300\n",
      "9134  -88\n",
      "9135  -88\n",
      "9136  -88\n",
      "9137  -88\n",
      "9138  -88\n",
      "9139  -88\n",
      "9140  -88\n",
      "\n",
      "[9141 rows x 1 columns]\n"
     ]
    }
   ],
   "source": [
    "print (FramerainType)"
   ]
  },
  {
   "cell_type": "code",
   "execution_count": 74,
   "metadata": {
    "collapsed": true
   },
   "outputs": [],
   "source": [
    "import csv"
   ]
  },
  {
   "cell_type": "code",
   "execution_count": 84,
   "metadata": {
    "collapsed": true
   },
   "outputs": [],
   "source": [
    "import pandas as pd"
   ]
  },
  {
   "cell_type": "code",
   "execution_count": null,
   "metadata": {
    "collapsed": true
   },
   "outputs": [],
   "source": [
    "#Ahora vamos a exportar en un arquicho .csv cada conjunto "
   ]
  },
  {
   "cell_type": "code",
   "execution_count": 72,
   "metadata": {
    "collapsed": true
   },
   "outputs": [],
   "source": [
    "FramerainType.reset_index().to_csv('datosrainType.csv', header = False, index= False)"
   ]
  },
  {
   "cell_type": "code",
   "execution_count": 68,
   "metadata": {},
   "outputs": [
    {
     "data": {
      "text/plain": [
       "<matplotlib.collections.LineCollection at 0x7f5e80774978>"
      ]
     },
     "execution_count": 68,
     "metadata": {},
     "output_type": "execute_result"
    }
   ],
   "source": [
    "m.drawcoastlines(color='lightgray')"
   ]
  },
  {
   "cell_type": "code",
   "execution_count": 54,
   "metadata": {},
   "outputs": [
    {
     "data": {
      "image/png": "[encoded data removed]",
      "text/plain": [
       "<Figure size 432x288 with 1 Axes>"
      ]
     },
     "metadata": {},
     "output_type": "display_data"
    }
   ],
   "source": [
    "plt.show()\n"
   ]
  },
  {
   "cell_type": "code",
   "execution_count": null,
   "metadata": {
    "collapsed": true
   },
   "outputs": [],
   "source": [
    "# listo, ahora lleva el arquicho csv a un programa GIS para espacializar. Buen Trabajo."
   ]
  }
 ],
 "metadata": {
  "kernelspec": {
   "display_name": "Python 3",
   "language": "python",
   "name": "python3"
  },
  "language_info": {
   "codemirror_mode": {
    "name": "ipython",
    "version": 3
   },
   "file_extension": ".py",
   "mimetype": "text/x-python",
   "name": "python",
   "nbconvert_exporter": "python",
   "pygments_lexer": "ipython3",
   "version": "3.6.3"
  }
 },
 "nbformat": 4,
 "nbformat_minor": 2
}
